{
 "cells": [
  {
   "cell_type": "markdown",
   "metadata": {
    "id": "hGB9aasIppG-"
   },
   "source": [
    "# Gesture Recognition\n",
    "In this group project, we are going to build a 3D Conv model that will be able to predict the 5 gestures correctly. Below are the libraries imported to get started with the model building.\n",
    "\n",
    "### Git Link: \n",
    "https://github.com/shuklavaibhav1994/Gesture-Recognition/"
   ]
  },
  {
   "cell_type": "code",
   "execution_count": 1,
   "metadata": {
    "id": "L90a3-6gppHI"
   },
   "outputs": [],
   "source": [
    "#importing the required libraries\n",
    "import numpy as np\n",
    "import os\n",
    "from skimage.transform import resize   #library for image resize\n",
    "from imageio import imread   #library to read the image\n",
    "import datetime\n",
    "import os\n",
    "import warnings\n",
    "import matplotlib.pyplot as plt\n",
    "%matplotlib inline\n",
    "warnings.filterwarnings('ignore')   #to ignore the warnings"
   ]
  },
  {
   "cell_type": "markdown",
   "metadata": {
    "id": "5XfGSr9WppHN"
   },
   "source": [
    "We set the random seed so that the results don't vary drastically."
   ]
  },
  {
   "cell_type": "code",
   "execution_count": 2,
   "metadata": {
    "id": "r7n-cNvappHP"
   },
   "outputs": [],
   "source": [
    "#setting the random seed 30\n",
    "np.random.seed(30)\n",
    "import random as rn\n",
    "rn.seed(30)\n",
    "import tensorflow as tf\n",
    "tf.random.set_seed(30)"
   ]
  },
  {
   "cell_type": "code",
   "execution_count": 3,
   "metadata": {
    "colab": {
     "base_uri": "https://localhost:8080/"
    },
    "id": "P4G2zn34z3gI",
    "outputId": "64992522-0ac6-4780-d062-922ddd08d993"
   },
   "outputs": [
    {
     "name": "stdout",
     "output_type": "stream",
     "text": [
      "Mounted at /content/gdrive\n"
     ]
    }
   ],
   "source": [
    "#Using the data by mounting the google drive. Below code helps in mounting the drive\n",
    "from google.colab import drive\n",
    "drive.mount('/content/gdrive')"
   ]
  },
  {
   "cell_type": "code",
   "execution_count": 4,
   "metadata": {
    "colab": {
     "base_uri": "https://localhost:8080/"
    },
    "id": "aTJrZHQxuTt1",
    "outputId": "5bf4d6d9-5ef6-4a6d-b58d-65c98aebab99"
   },
   "outputs": [
    {
     "name": "stdout",
     "output_type": "stream",
     "text": [
      "Mounted at /content/drive\n"
     ]
    }
   ],
   "source": [
    "from google.colab import drive\n",
    "drive.mount('/content/drive')"
   ]
  },
  {
   "cell_type": "markdown",
   "metadata": {
    "id": "FfUQyOzpppHR"
   },
   "source": [
    "In this block, we are reading the csv files for training and validation. We are also setting the `batch_size` here. Note that we are setting the batch size in such a way that we are able to use the GPU in full capacity. We kept increasing the batch size until the machine thrown an error."
   ]
  },
  {
   "cell_type": "code",
   "execution_count": 5,
   "metadata": {
    "id": "JLwwXkfyppHS"
   },
   "outputs": [],
   "source": [
    "#training document path\n",
    "train_doc = np.random.permutation(open('/content/drive/MyDrive/Project_data/Project_data/train.csv').readlines())\n",
    "\n",
    "#validation document path\n",
    "val_doc = np.random.permutation(open('/content/drive/MyDrive/Project_data/Project_data/val.csv').readlines())\n",
    "\n",
    "#setting the batch size as 20\n",
    "batch_size = 20"
   ]
  },
  {
   "cell_type": "markdown",
   "metadata": {
    "id": "TGINO9EUppHU"
   },
   "source": [
    "## Generator\n",
    "This is one of the most important part of the code. The overall structure of the generator has been given. In the generator, we are going to preprocess the images as we have images of 2 different dimensions as well as create a batch of video frames. We have to experiment with `img_idx`, `y`,`z` and normalization such that we get high accuracy."
   ]
  },
  {
   "cell_type": "code",
   "execution_count": 6,
   "metadata": {
    "id": "2KPsHF_EppHV"
   },
   "outputs": [],
   "source": [
    "y = 84 # image width\n",
    "z = 84 # image height\n",
    "\n",
    "#generator function\n",
    "def generator(source_path, folder_list, batch_size):\n",
    "    print( 'Source path = ', source_path, '; batch size =', batch_size)\n",
    "    img_idx = [0,2,4,6,8,10,12,14,16,18,20,22,24,26,28]   #taken alternative frames from the given 30 image frames. So total 15 frames are used.\n",
    "    while True:\n",
    "        t = np.random.permutation(folder_list)\n",
    "        num_batches = len(folder_list)//batch_size  #calculate the number of batches\n",
    "        for batch in range(num_batches):   #we iterate over the number of batches\n",
    "            batch_data = np.zeros((batch_size,15,y,z,3))  #x is the number of images we have used for each video(in this case 15), (y,z) is the final size of the input images and 3 is the number of channels RGB\n",
    "            batch_labels = np.zeros((batch_size,5))  #batch_labels is the one hot representation of the output\n",
    "            for folder in range(batch_size):  #iterate over the batch_size\n",
    "                imgs = os.listdir(source_path+'/'+ t[folder + (batch*batch_size)].split(';')[0])  #read all the images in the folder\n",
    "                for idx,item in enumerate(img_idx):  #Iterate over the frames/images of a folder to read them in\n",
    "                    image = imread(source_path+'/'+ t[folder + (batch*batch_size)].strip().split(';')[0]+'/'+imgs[item]).astype(np.float32)\n",
    "                    \n",
    "                    #cropped the images and resized them. Note that the images are of 2 different shape \n",
    "                    #and the conv3D will throw error if the inputs in a batch have different shapes\n",
    "\n",
    "                    image = resize(image,(84,84))  #taken the final image size as 84*84\n",
    "                    image = image/255.0   #normalising the image\n",
    "                    \n",
    "                    #Normalising RGB image\n",
    "                    batch_data[folder,idx,:,:,0] = image[:,:,0] #normalise and feed in the image\n",
    "                    batch_data[folder,idx,:,:,1] = image[:,:,1] #normalise and feed in the image\n",
    "                    batch_data[folder,idx,:,:,2] = image[:,:,2] #normalise and feed in the image\n",
    "                    \n",
    "                batch_labels[folder, int(t[folder + (batch*batch_size)].strip().split(';')[2])] = 1\n",
    "            yield batch_data, batch_labels #you yield the batch_data and the batch_labels, remember what does yield do\n",
    "\n",
    "        \n",
    "        #below is the code for the remaining data points which are left after full batches\n",
    "\n",
    "        if(len(t)%batch_size!=0):\n",
    "            batch_data = np.zeros((len(t)%batch_size,15,y,z,3))  #x is the number of images we have used for each video(in this case 15), (y,z) is the final size of the input images and 3 is the number of channels RGB\n",
    "            batch_labels = np.zeros((len(t)%batch_size,5))  #batch_labels is the one hot representation of the output\n",
    "            for folder in range(len(t)%batch_size):  #iterate over the batch_size\n",
    "                imgs = os.listdir(source_path+'/'+ t[folder + (num_batches*(len(t)%batch_size))].split(';')[0])  #read all the images in the folder\n",
    "                for idx,item in enumerate(img_idx):  #Iterate over the frames/images of a folder to read them in\n",
    "                    image = imread(source_path+'/'+ t[folder + (num_batches*(len(t)%batch_size))].strip().split(';')[0]+'/'+imgs[item]).astype(np.float32)\n",
    "                    \n",
    "                    #cropped the images and resized them. Note that the images are of 2 different shape \n",
    "                    #and the conv3D will throw error if the inputs in a batch have different shapes\n",
    "\n",
    "                    image = resize(image,(84,84))  #taken the final image size as 84*84\n",
    "                    image = image/255.0   #normalising the image\n",
    "\n",
    "                    #Normalising RGB image\n",
    "                    batch_data[folder,idx,:,:,0] = image[:,:,0] #normalise and feed in the image\n",
    "                    batch_data[folder,idx,:,:,1] = image[:,:,1] #normalise and feed in the image\n",
    "                    batch_data[folder,idx,:,:,2] = image[:,:,2] #normalise and feed in the image\n",
    "                                        \n",
    "                batch_labels[folder, int(t[folder + (num_batches*(len(t)%batch_size))].strip().split(';')[2])] = 1\n",
    "            yield batch_data, batch_labels #you yield the batch_data and the batch_labels, remember what does yield do"
   ]
  },
  {
   "cell_type": "markdown",
   "metadata": {
    "id": "a1Mws4eVppHY"
   },
   "source": [
    "Note here that a video is represented above in the generator as (number of images, height, width, number of channels). Take this into consideration while creating the model architecture."
   ]
  },
  {
   "cell_type": "code",
   "execution_count": 7,
   "metadata": {
    "colab": {
     "base_uri": "https://localhost:8080/"
    },
    "id": "seJto4W_ppHb",
    "outputId": "d42585f4-f7e4-49de-e80b-3c3c8ca22561"
   },
   "outputs": [
    {
     "name": "stdout",
     "output_type": "stream",
     "text": [
      "Number of training sequences = 663\n",
      "Number of validation sequences = 100\n",
      "# epochs = 30\n"
     ]
    }
   ],
   "source": [
    "curr_dt_time = datetime.datetime.now()\n",
    "\n",
    "#taking the folder path where images are stored\n",
    "train_path = '/content/drive/MyDrive/Project_data/Project_data/train'\n",
    "val_path = '/content/drive/MyDrive/Project_data/Project_data/val'\n",
    "num_train_sequences = len(train_doc)\n",
    "print('Number of training sequences =', num_train_sequences)  #printing the number of training sequences \n",
    "num_val_sequences = len(val_doc)\n",
    "print('Number of validation sequences =', num_val_sequences)  #printing the number of validation sequences\n",
    "num_epochs = 30  #taken the number of epochs as 30\n",
    "print ('# epochs =', num_epochs)"
   ]
  },
  {
   "cell_type": "markdown",
   "metadata": {
    "id": "EDjaPRAuppHd"
   },
   "source": [
    "## Model\n",
    "Here you make the model using different functionalities that Keras provides. Remember to use `Conv3D` and `MaxPooling3D` and not `Conv2D` and `Maxpooling2D` for a 3D convolution model. You would want to use `TimeDistributed` while building a Conv2D + RNN model. Also remember that the last layer is the softmax. Design the network in such a way that the model is able to give good accuracy on the least number of parameters so that it can fit in the memory of the webcam.\n",
    "\n",
    "## Final Model"
   ]
  },
  {
   "cell_type": "code",
   "execution_count": 8,
   "metadata": {
    "id": "AgR2QJxTY6Uv"
   },
   "outputs": [],
   "source": [
    "#importing the required libraries\n",
    "\n",
    "from keras.models import Sequential, Model\n",
    "from keras.layers import Dense, GRU, Flatten, TimeDistributed, Flatten, BatchNormalization, Activation, Dropout\n",
    "from keras.layers.convolutional import Conv3D, MaxPooling3D\n",
    "from keras.callbacks import ModelCheckpoint, ReduceLROnPlateau\n",
    "import keras\n",
    "from keras import optimizers\n",
    "\n",
    "#writing the model here\n",
    "model_3DConv = Sequential()\n",
    "\n",
    "model_3DConv.add(Conv3D(32, kernel_size=(3,3,3), input_shape=(15, 84, 84, 3), padding='same'))\n",
    "model_3DConv.add(Activation('relu'))\n",
    "model_3DConv.add(MaxPooling3D(pool_size=(2, 2, 2)))\n",
    "\n",
    "model_3DConv.add(Conv3D(64, kernel_size=(3,3,3), padding='same'))\n",
    "model_3DConv.add(BatchNormalization())\n",
    "model_3DConv.add(Activation('relu'))\n",
    "model_3DConv.add(MaxPooling3D(pool_size=(2, 2, 2)))\n",
    "\n",
    "model_3DConv.add(Conv3D(64, kernel_size=(3,3,3), padding='same'))\n",
    "model_3DConv.add(BatchNormalization())\n",
    "model_3DConv.add(Activation('relu'))\n",
    "model_3DConv.add(MaxPooling3D(pool_size=(2, 2, 2)))\n",
    "model_3DConv.add(Dropout(0.25))\n",
    "\n",
    "model_3DConv.add(Conv3D(128, kernel_size=(3,3,3), padding='same'))\n",
    "model_3DConv.add(BatchNormalization())\n",
    "model_3DConv.add(Activation('relu'))\n",
    "model_3DConv.add(MaxPooling3D(pool_size=(1, 2, 2)))\n",
    "model_3DConv.add(Dropout(0.25))\n",
    "\n",
    "model_3DConv.add(Conv3D(256, kernel_size=(3,3,3), padding='same'))\n",
    "model_3DConv.add(BatchNormalization())\n",
    "model_3DConv.add(Activation('relu'))\n",
    "model_3DConv.add(MaxPooling3D(pool_size=(1, 2, 2)))\n",
    "model_3DConv.add(Dropout(0.25))\n",
    "\n",
    "model_3DConv.add(Flatten())\n",
    "model_3DConv.add(Dense(512, activation='relu'))\n",
    "model_3DConv.add(Dropout(0.5))\n",
    "model_3DConv.add(Dense(1024, activation='relu'))\n",
    "model_3DConv.add(Dense(5, activation='softmax'))"
   ]
  },
  {
   "cell_type": "markdown",
   "metadata": {
    "id": "-iozgMQhppHh"
   },
   "source": [
    "Now that you have written the model, the next step is to `compile` the model. When you print the `summary` of the model, you'll see the total number of parameters you have to train."
   ]
  },
  {
   "cell_type": "code",
   "execution_count": 9,
   "metadata": {
    "colab": {
     "base_uri": "https://localhost:8080/"
    },
    "id": "aEC0KJiappHi",
    "outputId": "6d9a9058-5736-4cff-eba8-41941a21fed1",
    "scrolled": true
   },
   "outputs": [
    {
     "name": "stdout",
     "output_type": "stream",
     "text": [
      "Model: \"sequential\"\n",
      "_________________________________________________________________\n",
      " Layer (type)                Output Shape              Param #   \n",
      "=================================================================\n",
      " conv3d (Conv3D)             (None, 15, 84, 84, 32)    2624      \n",
      "                                                                 \n",
      " activation (Activation)     (None, 15, 84, 84, 32)    0         \n",
      "                                                                 \n",
      " max_pooling3d (MaxPooling3D  (None, 7, 42, 42, 32)    0         \n",
      " )                                                               \n",
      "                                                                 \n",
      " conv3d_1 (Conv3D)           (None, 7, 42, 42, 64)     55360     \n",
      "                                                                 \n",
      " batch_normalization (BatchN  (None, 7, 42, 42, 64)    256       \n",
      " ormalization)                                                   \n",
      "                                                                 \n",
      " activation_1 (Activation)   (None, 7, 42, 42, 64)     0         \n",
      "                                                                 \n",
      " max_pooling3d_1 (MaxPooling  (None, 3, 21, 21, 64)    0         \n",
      " 3D)                                                             \n",
      "                                                                 \n",
      " conv3d_2 (Conv3D)           (None, 3, 21, 21, 64)     110656    \n",
      "                                                                 \n",
      " batch_normalization_1 (Batc  (None, 3, 21, 21, 64)    256       \n",
      " hNormalization)                                                 \n",
      "                                                                 \n",
      " activation_2 (Activation)   (None, 3, 21, 21, 64)     0         \n",
      "                                                                 \n",
      " max_pooling3d_2 (MaxPooling  (None, 1, 10, 10, 64)    0         \n",
      " 3D)                                                             \n",
      "                                                                 \n",
      " dropout (Dropout)           (None, 1, 10, 10, 64)     0         \n",
      "                                                                 \n",
      " conv3d_3 (Conv3D)           (None, 1, 10, 10, 128)    221312    \n",
      "                                                                 \n",
      " batch_normalization_2 (Batc  (None, 1, 10, 10, 128)   512       \n",
      " hNormalization)                                                 \n",
      "                                                                 \n",
      " activation_3 (Activation)   (None, 1, 10, 10, 128)    0         \n",
      "                                                                 \n",
      " max_pooling3d_3 (MaxPooling  (None, 1, 5, 5, 128)     0         \n",
      " 3D)                                                             \n",
      "                                                                 \n",
      " dropout_1 (Dropout)         (None, 1, 5, 5, 128)      0         \n",
      "                                                                 \n",
      " conv3d_4 (Conv3D)           (None, 1, 5, 5, 256)      884992    \n",
      "                                                                 \n",
      " batch_normalization_3 (Batc  (None, 1, 5, 5, 256)     1024      \n",
      " hNormalization)                                                 \n",
      "                                                                 \n",
      " activation_4 (Activation)   (None, 1, 5, 5, 256)      0         \n",
      "                                                                 \n",
      " max_pooling3d_4 (MaxPooling  (None, 1, 2, 2, 256)     0         \n",
      " 3D)                                                             \n",
      "                                                                 \n",
      " dropout_2 (Dropout)         (None, 1, 2, 2, 256)      0         \n",
      "                                                                 \n",
      " flatten (Flatten)           (None, 1024)              0         \n",
      "                                                                 \n",
      " dense (Dense)               (None, 512)               524800    \n",
      "                                                                 \n",
      " dropout_3 (Dropout)         (None, 512)               0         \n",
      "                                                                 \n",
      " dense_1 (Dense)             (None, 1024)              525312    \n",
      "                                                                 \n",
      " dense_2 (Dense)             (None, 5)                 5125      \n",
      "                                                                 \n",
      "=================================================================\n",
      "Total params: 2,332,229\n",
      "Trainable params: 2,331,205\n",
      "Non-trainable params: 1,024\n",
      "_________________________________________________________________\n",
      "None\n"
     ]
    }
   ],
   "source": [
    "optimiser = tf.keras.optimizers.SGD(lr=0.01, decay=1e-6, momentum=0.9) #write your optimizer\n",
    "model_3DConv.compile(optimizer=optimiser, loss='categorical_crossentropy', metrics=['categorical_accuracy'])\n",
    "print (model_3DConv.summary())"
   ]
  },
  {
   "cell_type": "markdown",
   "metadata": {
    "id": "v5c-ePdPppHj"
   },
   "source": [
    "Let us create the `train_generator` and the `val_generator` which will be used in `.fit_generator`."
   ]
  },
  {
   "cell_type": "code",
   "execution_count": 10,
   "metadata": {
    "id": "hA7geBJ3ppHk"
   },
   "outputs": [],
   "source": [
    "#giving batch_size as 20\n",
    "batch_size = 20\n",
    "train_generator = generator(train_path, train_doc, batch_size)\n",
    "val_generator = generator(val_path, val_doc, batch_size)"
   ]
  },
  {
   "cell_type": "code",
   "execution_count": 11,
   "metadata": {
    "colab": {
     "base_uri": "https://localhost:8080/"
    },
    "id": "o18y57DJppHm",
    "outputId": "20ab3d79-ae20-4156-d25f-dbc0be419e79"
   },
   "outputs": [
    {
     "name": "stderr",
     "output_type": "stream",
     "text": [
      "WARNING:tensorflow:`period` argument is deprecated. Please use `save_freq` to specify the frequency in number of batches seen.\n"
     ]
    }
   ],
   "source": [
    "#storing the h5 files in a folder\n",
    "\n",
    "model_name = 'model_init' + '_' + str(curr_dt_time).replace(' ','').replace(':','_') + '/'\n",
    "    \n",
    "if not os.path.exists(model_name):\n",
    "    os.mkdir(model_name)\n",
    "        \n",
    "filepath = model_name + 'model-{epoch:05d}-{loss:.5f}-{categorical_accuracy:.5f}-{val_loss:.5f}-{val_categorical_accuracy:.5f}.h5'\n",
    "\n",
    "checkpoint = ModelCheckpoint(filepath, monitor='val_loss', verbose=1, save_best_only=False, save_weights_only=False, mode='auto', period=1)\n",
    "\n",
    "LR = ReduceLROnPlateau(monitor='val_loss', factor=0.5, patience=2, cooldown=1, verbose=1) # write the REducelronplateau code here\n",
    "callbacks_list = [checkpoint, LR]"
   ]
  },
  {
   "cell_type": "markdown",
   "metadata": {
    "id": "fZttEe-qppHo"
   },
   "source": [
    "The `steps_per_epoch` and `validation_steps` are used by `fit_generator` to decide the number of next() calls it need to make."
   ]
  },
  {
   "cell_type": "code",
   "execution_count": 12,
   "metadata": {
    "id": "Hkp10GZfppHp"
   },
   "outputs": [],
   "source": [
    "if (num_train_sequences%batch_size) == 0:\n",
    "    steps_per_epoch = int(num_train_sequences/batch_size)\n",
    "else:\n",
    "    steps_per_epoch = (num_train_sequences//batch_size) + 1\n",
    "\n",
    "if (num_val_sequences%batch_size) == 0:\n",
    "    validation_steps = int(num_val_sequences/batch_size)\n",
    "else:\n",
    "    validation_steps = (num_val_sequences//batch_size) + 1"
   ]
  },
  {
   "cell_type": "markdown",
   "metadata": {
    "id": "0fkCdrtJppHr"
   },
   "source": [
    "Let us now fit the model. This will start training the model and with the help of the checkpoints, you'll be able to save the model at the end of each epoch."
   ]
  },
  {
   "cell_type": "code",
   "execution_count": 13,
   "metadata": {
    "colab": {
     "base_uri": "https://localhost:8080/"
    },
    "id": "CWV_NKPplRwS",
    "outputId": "3b3e9bea-ca37-421a-a003-cf12b7aa8219",
    "scrolled": false
   },
   "outputs": [
    {
     "name": "stdout",
     "output_type": "stream",
     "text": [
      "Source path =  /content/drive/MyDrive/Project_data/Project_data/train ; batch size = 20\n",
      "Epoch 1/30\n",
      "34/34 [==============================] - ETA: 0s - loss: 1.9226 - categorical_accuracy: 0.3017  Source path =  /content/drive/MyDrive/Project_data/Project_data/val ; batch size = 20\n",
      "\n",
      "Epoch 1: saving model to model_init_2022-09-1315_55_41.784135/model-00001-1.92259-0.30166-26.21041-0.23000.h5\n",
      "34/34 [==============================] - 8229s 249s/step - loss: 1.9226 - categorical_accuracy: 0.3017 - val_loss: 26.2104 - val_categorical_accuracy: 0.2300 - lr: 0.0100\n",
      "Epoch 2/30\n",
      "34/34 [==============================] - ETA: 0s - loss: 1.4835 - categorical_accuracy: 0.3665\n",
      "Epoch 2: saving model to model_init_2022-09-1315_55_41.784135/model-00002-1.48347-0.36652-10.56100-0.26000.h5\n",
      "34/34 [==============================] - 160s 5s/step - loss: 1.4835 - categorical_accuracy: 0.3665 - val_loss: 10.5610 - val_categorical_accuracy: 0.2600 - lr: 0.0100\n",
      "Epoch 3/30\n",
      "34/34 [==============================] - ETA: 0s - loss: 1.3904 - categorical_accuracy: 0.3680\n",
      "Epoch 3: saving model to model_init_2022-09-1315_55_41.784135/model-00003-1.39044-0.36802-2.95934-0.21000.h5\n",
      "34/34 [==============================] - 121s 4s/step - loss: 1.3904 - categorical_accuracy: 0.3680 - val_loss: 2.9593 - val_categorical_accuracy: 0.2100 - lr: 0.0100\n",
      "Epoch 4/30\n",
      "34/34 [==============================] - ETA: 0s - loss: 1.3180 - categorical_accuracy: 0.4389\n",
      "Epoch 4: saving model to model_init_2022-09-1315_55_41.784135/model-00004-1.31797-0.43891-1.75572-0.27000.h5\n",
      "34/34 [==============================] - 123s 4s/step - loss: 1.3180 - categorical_accuracy: 0.4389 - val_loss: 1.7557 - val_categorical_accuracy: 0.2700 - lr: 0.0100\n",
      "Epoch 5/30\n",
      "34/34 [==============================] - ETA: 0s - loss: 1.2464 - categorical_accuracy: 0.4947\n",
      "Epoch 5: saving model to model_init_2022-09-1315_55_41.784135/model-00005-1.24639-0.49472-1.20291-0.46000.h5\n",
      "34/34 [==============================] - 122s 4s/step - loss: 1.2464 - categorical_accuracy: 0.4947 - val_loss: 1.2029 - val_categorical_accuracy: 0.4600 - lr: 0.0100\n",
      "Epoch 6/30\n",
      "34/34 [==============================] - ETA: 0s - loss: 1.1338 - categorical_accuracy: 0.4842\n",
      "Epoch 6: saving model to model_init_2022-09-1315_55_41.784135/model-00006-1.13376-0.48416-2.24780-0.30000.h5\n",
      "34/34 [==============================] - 124s 4s/step - loss: 1.1338 - categorical_accuracy: 0.4842 - val_loss: 2.2478 - val_categorical_accuracy: 0.3000 - lr: 0.0100\n",
      "Epoch 7/30\n",
      "34/34 [==============================] - ETA: 0s - loss: 0.9741 - categorical_accuracy: 0.6003\n",
      "Epoch 7: saving model to model_init_2022-09-1315_55_41.784135/model-00007-0.97414-0.60030-4.49039-0.25000.h5\n",
      "\n",
      "Epoch 7: ReduceLROnPlateau reducing learning rate to 0.004999999888241291.\n",
      "34/34 [==============================] - 122s 4s/step - loss: 0.9741 - categorical_accuracy: 0.6003 - val_loss: 4.4904 - val_categorical_accuracy: 0.2500 - lr: 0.0100\n",
      "Epoch 8/30\n",
      "34/34 [==============================] - ETA: 0s - loss: 0.8347 - categorical_accuracy: 0.6712\n",
      "Epoch 8: saving model to model_init_2022-09-1315_55_41.784135/model-00008-0.83471-0.67119-6.55551-0.22000.h5\n",
      "34/34 [==============================] - 125s 4s/step - loss: 0.8347 - categorical_accuracy: 0.6712 - val_loss: 6.5555 - val_categorical_accuracy: 0.2200 - lr: 0.0050\n",
      "Epoch 9/30\n",
      "34/34 [==============================] - ETA: 0s - loss: 0.8650 - categorical_accuracy: 0.6365\n",
      "Epoch 9: saving model to model_init_2022-09-1315_55_41.784135/model-00009-0.86495-0.63650-3.13887-0.30000.h5\n",
      "\n",
      "Epoch 9: ReduceLROnPlateau reducing learning rate to 0.0024999999441206455.\n",
      "34/34 [==============================] - 121s 4s/step - loss: 0.8650 - categorical_accuracy: 0.6365 - val_loss: 3.1389 - val_categorical_accuracy: 0.3000 - lr: 0.0050\n",
      "Epoch 10/30\n",
      "34/34 [==============================] - ETA: 0s - loss: 0.7583 - categorical_accuracy: 0.6983\n",
      "Epoch 10: saving model to model_init_2022-09-1315_55_41.784135/model-00010-0.75834-0.69834-1.95306-0.30000.h5\n",
      "34/34 [==============================] - 124s 4s/step - loss: 0.7583 - categorical_accuracy: 0.6983 - val_loss: 1.9531 - val_categorical_accuracy: 0.3000 - lr: 0.0025\n",
      "Epoch 11/30\n",
      "34/34 [==============================] - ETA: 0s - loss: 0.6909 - categorical_accuracy: 0.7240\n",
      "Epoch 11: saving model to model_init_2022-09-1315_55_41.784135/model-00011-0.69093-0.72398-1.66281-0.42000.h5\n",
      "\n",
      "Epoch 11: ReduceLROnPlateau reducing learning rate to 0.0012499999720603228.\n",
      "34/34 [==============================] - 124s 4s/step - loss: 0.6909 - categorical_accuracy: 0.7240 - val_loss: 1.6628 - val_categorical_accuracy: 0.4200 - lr: 0.0025\n",
      "Epoch 12/30\n",
      "34/34 [==============================] - ETA: 0s - loss: 0.6144 - categorical_accuracy: 0.7391\n",
      "Epoch 12: saving model to model_init_2022-09-1315_55_41.784135/model-00012-0.61436-0.73906-2.04924-0.37000.h5\n",
      "34/34 [==============================] - 123s 4s/step - loss: 0.6144 - categorical_accuracy: 0.7391 - val_loss: 2.0492 - val_categorical_accuracy: 0.3700 - lr: 0.0012\n",
      "Epoch 13/30\n",
      "34/34 [==============================] - ETA: 0s - loss: 0.5518 - categorical_accuracy: 0.7994\n",
      "Epoch 13: saving model to model_init_2022-09-1315_55_41.784135/model-00013-0.55180-0.79940-2.15676-0.37000.h5\n",
      "\n",
      "Epoch 13: ReduceLROnPlateau reducing learning rate to 0.0006249999860301614.\n",
      "34/34 [==============================] - 124s 4s/step - loss: 0.5518 - categorical_accuracy: 0.7994 - val_loss: 2.1568 - val_categorical_accuracy: 0.3700 - lr: 0.0012\n",
      "Epoch 14/30\n",
      "34/34 [==============================] - ETA: 0s - loss: 0.5227 - categorical_accuracy: 0.7964\n",
      "Epoch 14: saving model to model_init_2022-09-1315_55_41.784135/model-00014-0.52274-0.79638-1.60957-0.47000.h5\n",
      "34/34 [==============================] - 123s 4s/step - loss: 0.5227 - categorical_accuracy: 0.7964 - val_loss: 1.6096 - val_categorical_accuracy: 0.4700 - lr: 6.2500e-04\n",
      "Epoch 15/30\n",
      "34/34 [==============================] - ETA: 0s - loss: 0.4953 - categorical_accuracy: 0.8009\n",
      "Epoch 15: saving model to model_init_2022-09-1315_55_41.784135/model-00015-0.49526-0.80090-1.54638-0.48000.h5\n",
      "\n",
      "Epoch 15: ReduceLROnPlateau reducing learning rate to 0.0003124999930150807.\n",
      "34/34 [==============================] - 122s 4s/step - loss: 0.4953 - categorical_accuracy: 0.8009 - val_loss: 1.5464 - val_categorical_accuracy: 0.4800 - lr: 6.2500e-04\n",
      "Epoch 16/30\n",
      "34/34 [==============================] - ETA: 0s - loss: 0.4873 - categorical_accuracy: 0.8311\n",
      "Epoch 16: saving model to model_init_2022-09-1315_55_41.784135/model-00016-0.48725-0.83107-1.56108-0.48000.h5\n",
      "34/34 [==============================] - 122s 4s/step - loss: 0.4873 - categorical_accuracy: 0.8311 - val_loss: 1.5611 - val_categorical_accuracy: 0.4800 - lr: 3.1250e-04\n",
      "Epoch 17/30\n",
      "34/34 [==============================] - ETA: 0s - loss: 0.4763 - categorical_accuracy: 0.8326\n",
      "Epoch 17: saving model to model_init_2022-09-1315_55_41.784135/model-00017-0.47629-0.83258-0.77751-0.66000.h5\n",
      "34/34 [==============================] - 120s 4s/step - loss: 0.4763 - categorical_accuracy: 0.8326 - val_loss: 0.7775 - val_categorical_accuracy: 0.6600 - lr: 3.1250e-04\n",
      "Epoch 18/30\n",
      "34/34 [==============================] - ETA: 0s - loss: 0.4804 - categorical_accuracy: 0.8250\n",
      "Epoch 18: saving model to model_init_2022-09-1315_55_41.784135/model-00018-0.48045-0.82504-0.74753-0.69000.h5\n",
      "34/34 [==============================] - 122s 4s/step - loss: 0.4804 - categorical_accuracy: 0.8250 - val_loss: 0.7475 - val_categorical_accuracy: 0.6900 - lr: 3.1250e-04\n",
      "Epoch 19/30\n",
      "34/34 [==============================] - ETA: 0s - loss: 0.4537 - categorical_accuracy: 0.8281\n",
      "Epoch 19: saving model to model_init_2022-09-1315_55_41.784135/model-00019-0.45369-0.82805-0.92788-0.60000.h5\n",
      "34/34 [==============================] - 124s 4s/step - loss: 0.4537 - categorical_accuracy: 0.8281 - val_loss: 0.9279 - val_categorical_accuracy: 0.6000 - lr: 3.1250e-04\n",
      "Epoch 20/30\n",
      "34/34 [==============================] - ETA: 0s - loss: 0.4410 - categorical_accuracy: 0.8281\n",
      "Epoch 20: saving model to model_init_2022-09-1315_55_41.784135/model-00020-0.44098-0.82805-0.88867-0.64000.h5\n",
      "\n",
      "Epoch 20: ReduceLROnPlateau reducing learning rate to 0.00015624999650754035.\n",
      "34/34 [==============================] - 123s 4s/step - loss: 0.4410 - categorical_accuracy: 0.8281 - val_loss: 0.8887 - val_categorical_accuracy: 0.6400 - lr: 3.1250e-04\n",
      "Epoch 21/30\n",
      "34/34 [==============================] - ETA: 0s - loss: 0.4611 - categorical_accuracy: 0.8431\n",
      "Epoch 21: saving model to model_init_2022-09-1315_55_41.784135/model-00021-0.46105-0.84314-0.79456-0.68000.h5\n",
      "34/34 [==============================] - 125s 4s/step - loss: 0.4611 - categorical_accuracy: 0.8431 - val_loss: 0.7946 - val_categorical_accuracy: 0.6800 - lr: 1.5625e-04\n",
      "Epoch 22/30\n",
      "34/34 [==============================] - ETA: 0s - loss: 0.4408 - categorical_accuracy: 0.8401\n",
      "Epoch 22: saving model to model_init_2022-09-1315_55_41.784135/model-00022-0.44079-0.84012-0.71779-0.72000.h5\n",
      "34/34 [==============================] - 121s 4s/step - loss: 0.4408 - categorical_accuracy: 0.8401 - val_loss: 0.7178 - val_categorical_accuracy: 0.7200 - lr: 1.5625e-04\n",
      "Epoch 23/30\n",
      "34/34 [==============================] - ETA: 0s - loss: 0.4311 - categorical_accuracy: 0.8492\n",
      "Epoch 23: saving model to model_init_2022-09-1315_55_41.784135/model-00023-0.43108-0.84917-0.52840-0.82000.h5\n",
      "34/34 [==============================] - 126s 4s/step - loss: 0.4311 - categorical_accuracy: 0.8492 - val_loss: 0.5284 - val_categorical_accuracy: 0.8200 - lr: 1.5625e-04\n",
      "Epoch 24/30\n",
      "34/34 [==============================] - ETA: 0s - loss: 0.4463 - categorical_accuracy: 0.8416\n",
      "Epoch 24: saving model to model_init_2022-09-1315_55_41.784135/model-00024-0.44633-0.84163-0.45634-0.82000.h5\n",
      "34/34 [==============================] - 125s 4s/step - loss: 0.4463 - categorical_accuracy: 0.8416 - val_loss: 0.4563 - val_categorical_accuracy: 0.8200 - lr: 1.5625e-04\n",
      "Epoch 25/30\n",
      "34/34 [==============================] - ETA: 0s - loss: 0.4009 - categorical_accuracy: 0.8507\n",
      "Epoch 25: saving model to model_init_2022-09-1315_55_41.784135/model-00025-0.40093-0.85068-0.50013-0.80000.h5\n",
      "34/34 [==============================] - 124s 4s/step - loss: 0.4009 - categorical_accuracy: 0.8507 - val_loss: 0.5001 - val_categorical_accuracy: 0.8000 - lr: 1.5625e-04\n",
      "Epoch 26/30\n",
      "34/34 [==============================] - ETA: 0s - loss: 0.4003 - categorical_accuracy: 0.8507\n",
      "Epoch 26: saving model to model_init_2022-09-1315_55_41.784135/model-00026-0.40026-0.85068-0.54512-0.80000.h5\n",
      "\n",
      "Epoch 26: ReduceLROnPlateau reducing learning rate to 7.812499825377017e-05.\n",
      "34/34 [==============================] - 122s 4s/step - loss: 0.4003 - categorical_accuracy: 0.8507 - val_loss: 0.5451 - val_categorical_accuracy: 0.8000 - lr: 1.5625e-04\n",
      "Epoch 27/30\n",
      "34/34 [==============================] - ETA: 0s - loss: 0.4012 - categorical_accuracy: 0.8431\n",
      "Epoch 27: saving model to model_init_2022-09-1315_55_41.784135/model-00027-0.40118-0.84314-0.48489-0.82000.h5\n",
      "34/34 [==============================] - 123s 4s/step - loss: 0.4012 - categorical_accuracy: 0.8431 - val_loss: 0.4849 - val_categorical_accuracy: 0.8200 - lr: 7.8125e-05\n",
      "Epoch 28/30\n",
      "34/34 [==============================] - ETA: 0s - loss: 0.4081 - categorical_accuracy: 0.8416\n",
      "Epoch 28: saving model to model_init_2022-09-1315_55_41.784135/model-00028-0.40805-0.84163-0.58357-0.79000.h5\n",
      "\n",
      "Epoch 28: ReduceLROnPlateau reducing learning rate to 3.9062499126885086e-05.\n",
      "34/34 [==============================] - 120s 4s/step - loss: 0.4081 - categorical_accuracy: 0.8416 - val_loss: 0.5836 - val_categorical_accuracy: 0.7900 - lr: 7.8125e-05\n",
      "Epoch 29/30\n",
      "34/34 [==============================] - ETA: 0s - loss: 0.4196 - categorical_accuracy: 0.8477\n",
      "Epoch 29: saving model to model_init_2022-09-1315_55_41.784135/model-00029-0.41958-0.84766-0.59968-0.78000.h5\n",
      "34/34 [==============================] - 123s 4s/step - loss: 0.4196 - categorical_accuracy: 0.8477 - val_loss: 0.5997 - val_categorical_accuracy: 0.7800 - lr: 3.9062e-05\n",
      "Epoch 30/30\n",
      "34/34 [==============================] - ETA: 0s - loss: 0.4415 - categorical_accuracy: 0.8477\n",
      "Epoch 30: saving model to model_init_2022-09-1315_55_41.784135/model-00030-0.44150-0.84766-0.51080-0.81000.h5\n",
      "\n",
      "Epoch 30: ReduceLROnPlateau reducing learning rate to 1.9531249563442543e-05.\n",
      "34/34 [==============================] - 120s 4s/step - loss: 0.4415 - categorical_accuracy: 0.8477 - val_loss: 0.5108 - val_categorical_accuracy: 0.8100 - lr: 3.9062e-05\n"
     ]
    }
   ],
   "source": [
    "history_3DConv = model_3DConv.fit_generator(train_generator, steps_per_epoch=steps_per_epoch, epochs=num_epochs, verbose=1, \n",
    "                    callbacks=callbacks_list, validation_data=val_generator, \n",
    "                    validation_steps=validation_steps, class_weight=None, workers=1, initial_epoch=0)"
   ]
  },
  {
   "cell_type": "code",
   "execution_count": 14,
   "metadata": {
    "colab": {
     "base_uri": "https://localhost:8080/",
     "height": 282
    },
    "id": "dguXiau2ppHu",
    "outputId": "593443d6-9c12-4c97-c442-022f012a6382"
   },
   "outputs": [
    {
     "data": {
      "text/plain": [
       "<matplotlib.legend.Legend at 0x7f21480eaf10>"
      ]
     },
     "execution_count": 14,
     "metadata": {},
     "output_type": "execute_result"
    },
    {
     "data": {
      "image/png": "[encoded data removed]",
      "text/plain": [
       "<Figure size 1152x288 with 2 Axes>"
      ]
     },
     "metadata": {
      "needs_background": "light"
     },
     "output_type": "display_data"
    }
   ],
   "source": [
    "#plotting the graphs to check the accuracy and loss on training as well as on validation data\n",
    "fig, axes = plt.subplots(nrows=1, ncols=2, figsize=(16,4))\n",
    "axes[0].plot(history_3DConv.history['categorical_accuracy'])   \n",
    "axes[0].plot(history_3DConv.history['val_categorical_accuracy'])\n",
    "axes[0].legend(['categorical_accuracy','val_categorical_accuracy'])\n",
    "\n",
    "axes[1].plot(history_3DConv.history['loss'])   \n",
    "axes[1].plot(history_3DConv.history['val_loss'])\n",
    "axes[1].legend(['loss','val_loss'])"
   ]
  }
 ],
 "metadata": {
  "accelerator": "GPU",
  "colab": {
   "collapsed_sections": [],
   "provenance": []
  },
  "gpuClass": "standard",
  "kernelspec": {
   "display_name": "Python 3 (ipykernel)",
   "language": "python",
   "name": "python3"
  },
  "language_info": {
   "codemirror_mode": {
    "name": "ipython",
    "version": 3
   },
   "file_extension": ".py",
   "mimetype": "text/x-python",
   "name": "python",
   "nbconvert_exporter": "python",
   "pygments_lexer": "ipython3",
   "version": "3.9.7"
  }
 },
 "nbformat": 4,
 "nbformat_minor": 1
}
